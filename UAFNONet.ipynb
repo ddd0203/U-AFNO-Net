{
  "nbformat": 4,
  "nbformat_minor": 0,
  "metadata": {
    "colab": {
      "provenance": [],
      "machine_shape": "hm"
    },
    "kernelspec": {
      "name": "python3",
      "display_name": "Python 3"
    },
    "language_info": {
      "name": "python"
    }
  },
  "cells": [
    {
      "cell_type": "code",
      "source": [
        "# @title U_AFNO_Net Train\n",
        "import os\n",
        "folder_path = '/content/drive/MyDrive/U_AFNO_Net/UAFNO_Net/'\n",
        "os.chdir(folder_path)\n",
        "!python main.py \\\n",
        "    --model_name compact_unet_afno \\\n",
        "    --ex_name \"CompactUNet_AFNO_scs_mask\" \\\n",
        "    --epoch 20 \\\n",
        "    --batch_size 16 \\\n",
        "    --val_batch_size 16 \\\n",
        "    --lr 0.0001 \\\n",
        "    --in_shape 4 4 256 256 \\\n",
        "    --hid_S 64 \\\n",
        "    --N_T 8 \\\n",
        "    --input_steps 4\\\n",
        "    --output_steps 1\\\n",
        "    --mask_path ./data/256x256_h5new/mask.h5 \\\n",
        "    --img_size 32 32 \\\n",
        "    --patch_size 1 1 \\\n",
        "    --num_blocks 8 \\\n",
        "    --drop_rate 0.0 \\\n",
        "    --drop_path_rate 0.0 \\\n",
        "    --dataname custom \\\n",
        "    --data_root ./data/256x256_h5new"
      ],
      "metadata": {
        "id": "-kosDcwEhgiP"
      },
      "execution_count": null,
      "outputs": []
    },
    {
      "cell_type": "code",
      "source": [
        "# @title U_AFNO_Net Inference\n",
        "import os\n",
        "\n",
        "start_times = list(range(6, 2900, 40))\n",
        "start_times_str = ' '.join(map(str, start_times))\n",
        "\n",
        "folder_path = '/content/drive/MyDrive/U_AFNO_Net/UAFNO_Net/'\n",
        "os.chdir(folder_path)\n",
        "!python inference_new.py \\\n",
        "    --model_name compact_unet_afno \\\n",
        "    --model_path ./results/CompactUNet_ViTp1_scs_mask/checkpoint.pth \\\n",
        "    --test_data_path ./data/256x256_h5new/test/2015.h5 \\\n",
        "    --output_dir ./inference_results/CompactUNet_ViTp1_scs_mask/ \\\n",
        "    --in_shape 4 4 256 256 \\\n",
        "    --hid_S 64 \\\n",
        "    --N_T 8 \\\n",
        "    --input_steps 4 \\\n",
        "    --output_steps 1 \\\n",
        "    --mask_path ./data/256x256_h5new/mask.h5 \\\n",
        "    --img_size 32 32 \\\n",
        "    --patch_size 1 1 \\\n",
        "    --num_blocks 8 \\\n",
        "    --start_times {start_times_str} \\\n",
        "    --forecast_length 20"
      ],
      "metadata": {
        "id": "sVb-JBG3jGzk"
      },
      "execution_count": null,
      "outputs": []
    },
    {
      "cell_type": "code",
      "source": [
        "# @title AFNO Train\n",
        "import os\n",
        "folder_path = '/content/drive/MyDrive/U_AFNO_Net/UAFNO_Net/'\n",
        "os.chdir(folder_path)\n",
        "!python main.py \\\n",
        "    --model_name pure_afno \\\n",
        "    --ex_name \"PURE_AFNO_patch4_scs_mask\" \\\n",
        "    --epochs 20 \\\n",
        "    --batch_size 16 \\\n",
        "    --val_batch_size 16 \\\n",
        "    --lr 0.0001 \\\n",
        "    --in_shape 4 4 256 256 \\\n",
        "    --img_size 256 256 \\\n",
        "    --input_steps 4 \\\n",
        "    --output_steps 1 \\\n",
        "    --mask_path ./data/256x256_h5new/mask.h5 \\\n",
        "    --N_T 8 \\\n",
        "    --patch_size 8 8 \\\n",
        "    --num_blocks 8 \\\n",
        "    --drop_rate 0.0 \\\n",
        "    --drop_path_rate 0.0 \\\n",
        "    --dataname custom \\\n",
        "    --data_root ./data/256x256_h5new"
      ],
      "metadata": {
        "id": "maG3N6a9iDNP"
      },
      "execution_count": null,
      "outputs": []
    },
    {
      "cell_type": "code",
      "source": [
        "# @title AFNO Inference\n",
        "import os\n",
        "\n",
        "start_times = list(range(6, 2900, 20))  # 生成[10, 20, 30, ..., 100]\n",
        "start_times_str = ' '.join(map(str, start_times))\n",
        "\n",
        "folder_path = '/content/drive/MyDrive/Unet_AFNO/'\n",
        "os.chdir(folder_path)\n",
        "!python inference_new.py \\\n",
        "    --model_name pure_afno \\\n",
        "    --model_path ./results/PURE_AFNO_patch4_scs_mask/checkpoint.pth \\\n",
        "    --test_data_path ./data/256x256_h5new/test/2015.h5 \\\n",
        "    --in_shape 4 4 256 256 \\\n",
        "    --N_T 8 \\\n",
        "    --input_steps 4 \\\n",
        "    --output_steps 1 \\\n",
        "    --mask_path ./data/256x256_h5new/mask.h5 \\\n",
        "    --img_size 256 256 \\\n",
        "    --patch_size 8 8 \\\n",
        "    --num_blocks 8 \\\n",
        "    --start_times {start_times_str} \\\n",
        "    --forecast_length 20"
      ],
      "metadata": {
        "id": "AHpwsm8gkhlo"
      },
      "execution_count": null,
      "outputs": []
    },
    {
      "cell_type": "code",
      "source": [
        "# @title Unet Train\n",
        "import os\n",
        "folder_path = '/content/drive/MyDrive/U_AFNO_Net/UAFNO_Net/'\n",
        "os.chdir(folder_path)\n",
        "!python main.py \\\n",
        "    --model_name pure_unet \\\n",
        "    --ex_name \"input1/PURE_UNET_scs_mask1\" \\\n",
        "    --epochs 20 \\\n",
        "    --batch_size 16 \\\n",
        "    --val_batch_size 16 \\\n",
        "    --lr 0.0001 \\\n",
        "    --in_shape 1 4 256 256 \\\n",
        "    --input_steps 1 \\\n",
        "    --output_steps 1 \\\n",
        "    --mask_path ./data/256x256_h5new/mask.h5 \\\n",
        "    --hid_S 64 \\\n",
        "    --dataname custom \\\n",
        "    --data_root ./data/256x256_h5new"
      ],
      "metadata": {
        "id": "LzdHqVAeb21v"
      },
      "execution_count": null,
      "outputs": []
    },
    {
      "cell_type": "code",
      "source": [
        "# @title Unet Inference\n",
        "import os\n",
        "\n",
        "start_times = list(range(6, 2900, 20))  # 生成[10, 20, 30, ..., 100]\n",
        "start_times_str = ' '.join(map(str, start_times))\n",
        "\n",
        "folder_path = '/content/drive/MyDrive/U_AFNO_Net/UAFNO_Net/'\n",
        "os.chdir(folder_path)\n",
        "!python inference_new.py \\\n",
        "    --model_name pure_unet \\\n",
        "    --model_path ./results/input1/PURE_UNET_scs_mask/checkpoint.pth \\\n",
        "    --output_dir ./inference_results/Pure_Unet_scs_mask/ \\\n",
        "    --test_data_path ./data/256x256_h5new/test/2015.h5 \\\n",
        "    --in_shape 1 4 256 256 \\\n",
        "    --hid_S 64 \\\n",
        "    --input_steps 1 \\\n",
        "    --output_steps 1 \\\n",
        "    --mask_path ./data/256x256_h5new/mask.h5 \\\n",
        "    --start_times {start_times_str} \\\n",
        "    --forecast_length 20"
      ],
      "metadata": {
        "id": "Id3g5B3ZjpVP"
      },
      "execution_count": null,
      "outputs": []
    }
  ]
}